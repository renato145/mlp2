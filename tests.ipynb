{
 "cells": [
  {
   "cell_type": "code",
   "execution_count": 2,
   "metadata": {
    "collapsed": true
   },
   "outputs": [],
   "source": [
    "import numpy as np\n",
    "import pandas as pd\n",
    "import scipy.sparse as sps\n",
    "from sklearn.feature_extraction.text import TfidfTransformer\n",
    "from sklearn.decomposition import TruncatedSVD\n",
    "from sklearn.preprocessing import Normalizer\n",
    "from sklearn.pipeline import make_pipeline\n",
    "from time import time"
   ]
  },
  {
   "cell_type": "code",
   "execution_count": 18,
   "metadata": {
    "collapsed": true
   },
   "outputs": [],
   "source": [
    "words = pd.read_csv('/home/kopita/data_sets/nytimes/vocab.nytimes.txt', header=None)\n",
    "words.columns = ['word']"
   ]
  },
  {
   "cell_type": "code",
   "execution_count": 3,
   "metadata": {
    "collapsed": false
   },
   "outputs": [],
   "source": [
    "df = pd.read_csv('/home/kopita/data_sets/nytimes/docword.nytimes.txt', sep=' ', skiprows=3,\n",
    "                 header=None)\n",
    "df.columns = ['docID','wordID','count']\n",
    "dff = df.values"
   ]
  },
  {
   "cell_type": "code",
   "execution_count": 4,
   "metadata": {
    "collapsed": false
   },
   "outputs": [],
   "source": [
    "rows, row_pos = np.unique(dff[:, 0], return_inverse=True)\n",
    "cols, col_pos = np.unique(dff[:, 1], return_inverse=True)\n",
    "pivot_table = sps.coo_matrix((dff[:, 2], (row_pos, col_pos)),\n",
    "                             shape=(len(rows), len(cols)))\n",
    "pivot_table = pivot_table.tocsr()\n",
    "pivot_table.sort_indices()"
   ]
  },
  {
   "cell_type": "code",
   "execution_count": 396,
   "metadata": {
    "collapsed": false
   },
   "outputs": [],
   "source": [
    "indices, counts = np.unique(pivot_table.indices, return_counts=True)"
   ]
  },
  {
   "cell_type": "code",
   "execution_count": 402,
   "metadata": {
    "collapsed": false
   },
   "outputs": [
    {
     "data": {
      "text/plain": [
       "array([80514, 62630, 62533, ..., 25710, 27948, 33454])"
      ]
     },
     "execution_count": 402,
     "metadata": {},
     "output_type": "execute_result"
    }
   ],
   "source": [
    "np.argsort(counts)"
   ]
  },
  {
   "cell_type": "code",
   "execution_count": 408,
   "metadata": {
    "collapsed": false
   },
   "outputs": [
    {
     "data": {
      "text/plain": [
       "108622"
      ]
     },
     "execution_count": 408,
     "metadata": {},
     "output_type": "execute_result"
    }
   ],
   "source": [
    "counts[33454]"
   ]
  },
  {
   "cell_type": "code",
   "execution_count": 387,
   "metadata": {
    "collapsed": false
   },
   "outputs": [
    {
     "data": {
      "text/plain": [
       "array([    0,   128,   236,   502,   671,   784,   962,  1308,  1627,\n",
       "        2149,  2264,  2439,  2526,  2650,  2851,  3212,  3528,  3844,\n",
       "        4137,  4474,  4628,  4810,  4814,  5200,  5436,  5707,  5909,\n",
       "        6167,  6273,  6511,  6749,  7055,  7361,  7557,  7753,  7947,\n",
       "        8141,  8269,  8397,  8728,  9059,  9320,  9581,  9741,  9901,\n",
       "       10137, 10373, 10482, 10591, 10832, 11073, 11263, 11453, 11693,\n",
       "       11933, 12044, 12155, 12395, 12635, 12765, 12895, 13177, 13459,\n",
       "       13715, 13981, 14211, 14438, 14746, 14933, 15173, 15413, 15524,\n",
       "       15635, 15909, 16069, 16260, 16503, 16633, 17019, 17136, 17316,\n",
       "       17463, 17577, 17727, 17851, 18010, 18181, 18584, 18986, 19227,\n",
       "       19504, 19721, 19980, 20236, 20508, 20607, 20791, 21061, 21314, 21558], dtype=int32)"
      ]
     },
     "execution_count": 387,
     "metadata": {},
     "output_type": "execute_result"
    }
   ],
   "source": [
    "pivot_table.indptr[:100]"
   ]
  },
  {
   "cell_type": "code",
   "execution_count": 373,
   "metadata": {
    "collapsed": false
   },
   "outputs": [
    {
     "data": {
      "text/plain": [
       "(299753,)"
      ]
     },
     "execution_count": 373,
     "metadata": {},
     "output_type": "execute_result"
    }
   ],
   "source": [
    "pivot_table.indptr.shape"
   ]
  },
  {
   "cell_type": "code",
   "execution_count": 391,
   "metadata": {
    "collapsed": false
   },
   "outputs": [
    {
     "data": {
      "text/plain": [
       "matrix([[  70,   25,   53,  529,   29,   47,  107, 3950, 7331, 1591]], dtype=int64)"
      ]
     },
     "execution_count": 391,
     "metadata": {},
     "output_type": "execute_result"
    }
   ],
   "source": [
    "pivot_table[:,:10].sum(axis=0)"
   ]
  },
  {
   "cell_type": "code",
   "execution_count": 409,
   "metadata": {
    "collapsed": false
   },
   "outputs": [
    {
     "data": {
      "text/plain": [
       "108622"
      ]
     },
     "execution_count": 409,
     "metadata": {},
     "output_type": "execute_result"
    }
   ],
   "source": [
    "np.count_nonzero(pivot_table[:,33454].toarray())"
   ]
  },
  {
   "cell_type": "code",
   "execution_count": 377,
   "metadata": {
    "collapsed": false
   },
   "outputs": [
    {
     "data": {
      "text/plain": [
       "<299752x101636 sparse matrix of type '<class 'numpy.int64'>'\n",
       "\twith 69679427 stored elements in Compressed Sparse Row format>"
      ]
     },
     "execution_count": 377,
     "metadata": {},
     "output_type": "execute_result"
    }
   ],
   "source": [
    "pivot_table"
   ]
  },
  {
   "cell_type": "code",
   "execution_count": 393,
   "metadata": {
    "collapsed": false
   },
   "outputs": [
    {
     "data": {
      "text/plain": [
       "array([   412,    533,   2338,   2803,   3056,   3067,   3291,   3353,\n",
       "         4053,   4927,   5251,   6884,   6942,   6970,   7292,   7398,\n",
       "         7401,   7405,   7540,   7786,   9081,   9381,   9955,   9979,\n",
       "        10122,  10470,  10783,  11758,  12605,  12956,  13354,  13987,\n",
       "        14250,  14748,  14810,  14847,  15498,  15708,  15881,  16248,\n",
       "        16380,  16576,  16738,  16847,  17649,  17655,  17815,  18067,\n",
       "        18195,  18348,  18561,  18698,  18984,  22120,  22121,  22140,\n",
       "        22284,  22306,  22864,  23497,  24478,  24847,  25598,  25710,\n",
       "        25711,  25939,  26101,  26391,  28038,  28394,  28395,  29149,\n",
       "        29158,  29345,  29591,  30661,  30995,  31422,  31568,  31570,\n",
       "        31727,  31730,  31925,  32539,  33005,  33454,  33928,  34444,\n",
       "        34479,  34544,  34765,  34873,  35472,  35476,  35523,  37885,\n",
       "        37942,  38036,  39105,  39120,  39125,  39330,  40216,  40365,\n",
       "        40459,  41035,  41042,  41140,  42505,  42839,  43547,  43786,\n",
       "        43959,  43960,  49406,  49407,  51603,  51939,  54015,  56741,\n",
       "        58421,  63039,  67722,  77722,  79790,  81380,  82471,  82509,\n",
       "          441,    622,   1019,   1697,   1699,   1705,   1892,   1936,\n",
       "         2004,   2040,   2186,   2195,   3190,   3353,   4200,   4350,\n",
       "         5240,   5245,   5792,   5917,   5999,   6001,   6107,   6833,\n",
       "         6866,   7629,   8424,   8464,   9312,   9602,   9742,  10476,\n",
       "        11330,  12257,  12259,  12416,  13148,  13402,  13845,  14105,\n",
       "        14626,  14906,  15717,  15948,  16282,  16693,  17976,  18437,\n",
       "        18531,  20948,  20951,  21751,  22121,  22170,  22434,  22791,\n",
       "        23497,  23944,  23996,  24075,  24207,  24478,  25688,  25869,\n",
       "        25883,  25948,  26297,  26391,  26393,  26398,  26680,  27628,\n",
       "        27785,  28015,  28528,  28551,  29700,  29950,  29990,  30329,\n",
       "        30399,  30553,  30779,  30790,  31597,  31790,  32095,  32539,\n",
       "        34395,  35083,  36016,  36526,  36557,  37223,  37588,  37999,\n",
       "        40671,  40767,  41030,  42004,  42308,  43085,  43962,  44031,\n",
       "        44360,  89376,  91284,  98145,     58,    395,    399,    403,\n",
       "         1001,   1223,   1629,   2006,   2329,   2803,   3014,   3291,\n",
       "         3766,   4248,   4319,   4726,   4729,   4847,   5062,   5269,\n",
       "         5363,   5475,   5556,   5708,   5709,   5914,   5918,   6001,\n",
       "         6107,   6124,   6136,   6245,   6261,   6350,   6431,   6767,\n",
       "         6885,   7266,   7464,   7503,   7677,   7678,   7688,   8854,\n",
       "         9081,   9294,   9373,   9541,   9639,  10419,  10506,  10815,\n",
       "        11399,  11918,  11952,  12257,  12721,  12961,  13172,  13200,\n",
       "        13548,  13679,  13961,  14277,  14299,  14377,  14390,  14565,\n",
       "        14587,  14621,  14663,  14717,  14876,  14924,  14994,  15174,\n",
       "        15397,  15474,  15895,  16132,  16155,  16205,  16248,  16331,\n",
       "        16771,  17117,  17122,  17204,  17721,  18095,  18113,  18201,\n",
       "        18279,  18524,  18782,  18787,  18800,  18822,  18826,  18974,\n",
       "        19021,  19221,  19818,  21221,  21232,  21554,  21918,  22088,\n",
       "        22135,  22170,  22434,  22529,  22637,  23195,  23228,  23612,\n",
       "        23734,  23936,  23958,  24002,  24258,  24374,  24777,  25385,\n",
       "        25587,  25662,  25715,  25758,  25883,  25939,  25943,  26227,\n",
       "        26690,  26833,  26885,  27016,  27128,  27519,  27660,  28012,\n",
       "        28038,  28063,  28281,  28289,  28444,  29092,  29157,  29345,\n",
       "        29381,  29506,  29636,  29700,  30154,  30280,  30336,  30408,\n",
       "        30478,  30609,  30984,  31256,  31570,  32157,  32548,  33238,\n",
       "        33532,  33668,  33706,  33953,  34369,  34619,  34751,  34774,\n",
       "        34818,  34828,  34834,  35150,  35157,  35288,  35541,  35551,\n",
       "        35560,  35865,  35927,  35944,  35990,  36291,  36896,  36933,\n",
       "        36968,  36970,  37385,  37648,  37832,  37949,  37956,  38005,\n",
       "        38037,  38218,  38302,  38473,  38497,  39177,  39395,  39468,\n",
       "        39644,  39646,  39701,  39726,  39766,  39819,  39825,  39870,\n",
       "        40125,  40192,  40440,  40800,  40911,  41636,  42336,  42998,\n",
       "        43201,  43216,  43222,  43364,  43373,  43456,  43523,  43547,\n",
       "        43654,  43736,  43963,  44057,  44217,  44401,  46084,  50369,\n",
       "        51201,  52252,  54561,  58147,  58670,  64457,  68708,  72181,\n",
       "        73072,  75211,  76124,  77609,  81211,  81758,  84590,  88006,\n",
       "        88350,  88791,  90219,  91084,  91284,  91524,  92461,  94352,\n",
       "        96405,  97446,  98279,  99625,  99653, 100378,    257,    450,\n",
       "          671,    742,    867,    872,    892,    893,    900,   1097,\n",
       "         1705,   2006,   2216,   2540,   3607,   3898,   4054,   4203,\n",
       "         5364,   5664,   5855,   5971,   6103,   6107,   6334,   6767,\n",
       "         7378,   7473,   7629,   7677,   7906,   7980,   8233,   8357,\n",
       "         8471,   9055,   9602,  10151,  10478,  10492,  10785,  10930,\n",
       "        12443,  12463,  12844,  13149,  13549,  13846,  13962,  14002,\n",
       "        14310,  14565,  15056,  15118,  15203,  15222,  15380,  15437,\n",
       "        15711,  16748,  16762,  16771,  17053,  17204,  17335,  17649,\n",
       "        17733,  17787,  17964,  17997,  18561,  18699,  18822,  19671,\n",
       "        19920,  20067,  21132,  21133,  21262,  21924,  21950,  22916,\n",
       "        23228,  23764,  24232,  24258,  24365,  24480,  25939,  26391,\n",
       "        26555,  26624,  26688,  26690,  26854,  26974,  26993,  28022,\n",
       "        28207,  28394,  29091,  29700,  30220,  30280,  30331,  30408,\n",
       "        30772,  30995,  31169,  31587,  31692,  31789,  32468,  32761,\n",
       "        33075,  33660,  34059,  34541,  34774,  35033,  36708,  37018,\n",
       "        37579,  38241,  38710,  38999,  39105,  39468,  39471,  39644,\n",
       "        39658,  39825,  40157,  40426,  40444,  40633,  40943,  41153,\n",
       "        42228,  43143,  43201,  43851,  43903,  45203,  45447,  46104,\n",
       "        50408,  51966,  51968,  56318,  61134,  61139,  61349,  61660,\n",
       "        65067,  69308,  72992,  74057,  75555,  75582,  75590,  75734,\n",
       "        81758,  81863,  91587,  98164,  98213,  99625, 100984,    637,\n",
       "          671,   2567,   4668,   4670,   7433,   7464,   8135,   8854,\n",
       "         8855,   9481,  10045,  10128,  10617,  10753,  10954,  11127,\n",
       "        11880,  12258,  12265,  12431,  13520,  13752,  13845,  14437,\n",
       "        14591,  17029,  17053,  17335,  17437,  17649,  18196,  18423,\n",
       "        18822,  18824,  20464,  22123,  22641,  22705,  23228,  23309,\n",
       "        23618,  23859,  26167,  27011,  27948,  28158,  28974,  30069,\n",
       "        30185,  30329,  30331,  30336,  30399,  30407,  30772,  31827,\n",
       "        33015,  33151,  34445,  34479,  35120,  35541,  36708,  36942,\n",
       "        37549,  38086,  38369,  38718,  38999,  39468,  39712,  42568,\n",
       "        42815,  43736,  43959,  44023,  44162,  46101,  48236,  48852,\n",
       "        49027,  50546,  51310,  51410,  51966,  55691,  58373,  59281,\n",
       "        60501,  61383,  63835,  65170,  73102,  75711,  76436,  76977,\n",
       "        78529,  79490,  80395,  81758,  82772,  83917,  83963,  87542,\n",
       "        90493,  93692,  93926,  94050,  99625,  99661,  99914, 100099,\n",
       "          450,    457,    902,   1499,   1905,   1955,   2273,   2297,\n",
       "         2329,   2901,   3353,   3362,   3799,   3984,   4343,   4388,\n",
       "         4637,   4638,   4847,   5038,   5115,   5269,   5366,   5367,\n",
       "         5475,   5915,   5918,   5971,   6245,   6661,   7221,   7312,\n",
       "         7334,   7553,   7629,   7677,   7680,   8582,   8637,   8802,\n",
       "        10933,  11308,  12011,  12090,  12314,  12961,  13354,  13402,\n",
       "        13476,  14389,  14390,  14397,  14565,  14706,  14715,  14825,\n",
       "        14868,  14924,  14972,  14994,  15222,  15984,  16703,  16749,\n",
       "        16997,  17098,  17409,  17410,  18058,  18113,  18209,  18364,\n",
       "        18437,  18442,  18914,  19375,  19853,  20211,  20324,  20554,\n",
       "        21222,  21689,  21921,  22627,  22818,  22953,  23207,  23473,\n",
       "        23502,  23612,  23782,  23936,  24161,  24232,  24344,  24365,\n",
       "        24478,  25104,  25418,  25587,  25731,  25759,  25883,  25939,\n",
       "        26690,  26904,  27538,  27813,  28394,  29055,  29099,  30125,\n",
       "        30130,  30399,  31413,  31715,  31994,  33238,  33454,  33949,\n",
       "        34873,  35541,  35858,  35862,  36290,  36643,  36712,  36831,\n",
       "        36942,  37295,  37460,  37780,  37832,  37840,  37850,  37956,\n",
       "        38036,  38039,  38056,  38601,  39118,  39201,  39586,  39819,\n",
       "        39825,  39836,  40114,  40115,  40125,  40317,  40362,  40439,\n",
       "        40440,  40633,  40850,  40870,  41035,  41574,  42623,  42842,\n",
       "        42899,  42937,  43368,  43450,  43524,  44217,  44311,  52742,\n",
       "        60914,  65348,  78633,  78634,  79563,  82794,  83280,  93312,\n",
       "        98213, 101587,    262,    457,    756,    762,    894,    902,\n",
       "         1223,   1414,   1462,   1705,   2006,   2329,   2393,   2418,\n",
       "         2457,   2513,   2628,   2803,   2897,   2901,   3362,   3572,\n",
       "         3607,   3655,   3713,   3879,   4000,   4388,   4610,   4729,\n",
       "         5017,   5038,   5039,   5249,   5275,   5364,   5572,   5709], dtype=int32)"
      ]
     },
     "execution_count": 393,
     "metadata": {},
     "output_type": "execute_result"
    }
   ],
   "source": [
    "#pivot_table[:,:10]\n",
    "#pivot_table.indices.reshape([299752,101636])\n",
    "pivot_table.indices[:1000]"
   ]
  },
  {
   "cell_type": "code",
   "execution_count": 385,
   "metadata": {
    "collapsed": false
   },
   "outputs": [
    {
     "data": {
      "text/plain": [
       "<bound method spmatrix.nonzero of <299752x101636 sparse matrix of type '<class 'numpy.int64'>'\n",
       "\twith 69679427 stored elements in Compressed Sparse Row format>>"
      ]
     },
     "execution_count": 385,
     "metadata": {},
     "output_type": "execute_result"
    }
   ],
   "source": [
    "pivot_table.nonzero"
   ]
  },
  {
   "cell_type": "code",
   "execution_count": 346,
   "metadata": {
    "collapsed": false
   },
   "outputs": [
    {
     "data": {
      "text/plain": [
       "array([[0],\n",
       "       [0],\n",
       "       [0],\n",
       "       ..., \n",
       "       [0],\n",
       "       [0],\n",
       "       [0]])"
      ]
     },
     "execution_count": 346,
     "metadata": {},
     "output_type": "execute_result"
    }
   ],
   "source": [
    "pivot_table.getcol(0).toarray()"
   ]
  },
  {
   "cell_type": "code",
   "execution_count": 325,
   "metadata": {
    "collapsed": false
   },
   "outputs": [
    {
     "data": {
      "text/plain": [
       "198"
      ]
     },
     "execution_count": 325,
     "metadata": {},
     "output_type": "execute_result"
    }
   ],
   "source": [
    "len(pivot_table.getrow(1002).indices)"
   ]
  },
  {
   "cell_type": "code",
   "execution_count": 258,
   "metadata": {
    "collapsed": false
   },
   "outputs": [
    {
     "data": {
      "text/plain": [
       "array([[0, 0, 0, 0, 0, 0, 0, 0, 1, 0, 0, 0, 0, 0, 0, 0, 0, 0, 0, 0, 0, 0],\n",
       "       [0, 0, 0, 0, 0, 0, 0, 0, 0, 0, 0, 0, 0, 0, 0, 0, 0, 0, 0, 0, 0, 0],\n",
       "       [0, 0, 0, 0, 0, 0, 0, 0, 0, 0, 0, 0, 0, 0, 0, 0, 0, 0, 0, 0, 0, 0],\n",
       "       [0, 0, 0, 0, 0, 0, 0, 0, 0, 0, 0, 0, 0, 0, 0, 0, 0, 0, 0, 0, 0, 0],\n",
       "       [0, 0, 0, 0, 0, 0, 0, 0, 0, 0, 0, 0, 0, 0, 0, 0, 0, 0, 0, 0, 0, 0],\n",
       "       [0, 0, 0, 0, 0, 0, 0, 0, 0, 0, 0, 0, 0, 0, 0, 0, 0, 0, 0, 0, 0, 0],\n",
       "       [0, 0, 0, 0, 0, 0, 0, 0, 0, 0, 0, 0, 0, 0, 0, 0, 0, 0, 0, 0, 0, 0],\n",
       "       [0, 0, 0, 0, 0, 0, 0, 0, 0, 0, 0, 0, 0, 0, 0, 0, 0, 0, 0, 0, 0, 0],\n",
       "       [0, 0, 0, 0, 0, 0, 0, 0, 0, 0, 0, 0, 0, 0, 0, 0, 0, 0, 0, 0, 0, 0],\n",
       "       [0, 0, 0, 0, 0, 0, 0, 0, 0, 0, 0, 0, 0, 0, 0, 0, 0, 0, 0, 0, 0, 0]])"
      ]
     },
     "execution_count": 258,
     "metadata": {},
     "output_type": "execute_result"
    }
   ],
   "source": [
    "pivot_table[-10:,:22].toarray()"
   ]
  },
  {
   "cell_type": "code",
   "execution_count": 259,
   "metadata": {
    "collapsed": false
   },
   "outputs": [
    {
     "data": {
      "text/plain": [
       "array([[0, 0, 0, 0, 0, 0, 0, 0, 1, 0, 0, 0, 0, 0, 0, 0, 0, 0, 0, 0, 0, 0],\n",
       "       [0, 0, 0, 0, 0, 0, 0, 0, 0, 0, 0, 0, 0, 0, 0, 0, 0, 0, 0, 0, 0, 0],\n",
       "       [0, 0, 0, 0, 0, 0, 0, 0, 0, 0, 0, 0, 0, 0, 0, 0, 0, 0, 0, 0, 0, 0],\n",
       "       [0, 0, 0, 0, 0, 0, 0, 0, 0, 0, 0, 0, 0, 0, 0, 0, 0, 0, 0, 0, 0, 0],\n",
       "       [0, 0, 0, 0, 0, 0, 0, 0, 0, 0, 0, 0, 0, 0, 0, 0, 0, 0, 0, 0, 0, 0],\n",
       "       [0, 0, 0, 0, 0, 0, 0, 0, 0, 0, 0, 0, 0, 0, 0, 0, 0, 0, 0, 0, 0, 0],\n",
       "       [0, 0, 0, 0, 0, 0, 0, 0, 0, 0, 0, 0, 0, 0, 0, 0, 0, 0, 0, 0, 0, 0],\n",
       "       [0, 0, 0, 0, 0, 0, 0, 0, 0, 0, 0, 0, 0, 0, 0, 0, 0, 0, 0, 0, 0, 0],\n",
       "       [0, 0, 0, 0, 0, 0, 0, 0, 0, 0, 0, 0, 0, 0, 0, 0, 0, 0, 0, 0, 0, 0],\n",
       "       [0, 0, 0, 0, 0, 0, 0, 0, 0, 0, 0, 0, 0, 0, 0, 0, 0, 0, 0, 0, 0, 0]])"
      ]
     },
     "execution_count": 259,
     "metadata": {},
     "output_type": "execute_result"
    }
   ],
   "source": [
    "q[-10:,:22].toarray()"
   ]
  },
  {
   "cell_type": "code",
   "execution_count": 209,
   "metadata": {
    "collapsed": false
   },
   "outputs": [
    {
     "ename": "KeyboardInterrupt",
     "evalue": "",
     "output_type": "error",
     "traceback": [
      "\u001b[1;31m---------------------------------------------------------------------------\u001b[0m",
      "\u001b[1;31mKeyboardInterrupt\u001b[0m                         Traceback (most recent call last)",
      "\u001b[1;32m<ipython-input-209-2e1db0d01534>\u001b[0m in \u001b[0;36m<module>\u001b[1;34m()\u001b[0m\n\u001b[0;32m      1\u001b[0m \u001b[0mcol_count\u001b[0m \u001b[1;33m=\u001b[0m \u001b[1;33m[\u001b[0m\u001b[1;33m]\u001b[0m\u001b[1;33m\u001b[0m\u001b[0m\n\u001b[0;32m      2\u001b[0m \u001b[1;32mfor\u001b[0m \u001b[0mn_col\u001b[0m \u001b[1;32min\u001b[0m \u001b[0mrange\u001b[0m\u001b[1;33m(\u001b[0m\u001b[0mpivot_table\u001b[0m\u001b[1;33m.\u001b[0m\u001b[0mshape\u001b[0m\u001b[1;33m[\u001b[0m\u001b[1;36m1\u001b[0m\u001b[1;33m]\u001b[0m\u001b[1;33m)\u001b[0m\u001b[1;33m:\u001b[0m\u001b[1;33m\u001b[0m\u001b[0m\n\u001b[1;32m----> 3\u001b[1;33m     \u001b[0mindices\u001b[0m \u001b[1;33m=\u001b[0m \u001b[0mlen\u001b[0m\u001b[1;33m(\u001b[0m\u001b[0mpivot_table\u001b[0m\u001b[1;33m.\u001b[0m\u001b[0mgetcol\u001b[0m\u001b[1;33m(\u001b[0m\u001b[0mn_col\u001b[0m\u001b[1;33m)\u001b[0m\u001b[1;33m.\u001b[0m\u001b[0mindices\u001b[0m\u001b[1;33m)\u001b[0m\u001b[1;33m\u001b[0m\u001b[0m\n\u001b[0m\u001b[0;32m      4\u001b[0m     \u001b[0mcol_count\u001b[0m\u001b[1;33m.\u001b[0m\u001b[0mappend\u001b[0m\u001b[1;33m(\u001b[0m\u001b[0mindices\u001b[0m\u001b[1;33m)\u001b[0m\u001b[1;33m\u001b[0m\u001b[0m\n",
      "\u001b[1;32m/home/kopita/anaconda3/lib/python3.5/site-packages/scipy/sparse/csr.py\u001b[0m in \u001b[0;36mgetcol\u001b[1;34m(self, i)\u001b[0m\n\u001b[0;32m    345\u001b[0m         \u001b[0mCSR\u001b[0m \u001b[0mmatrix\u001b[0m \u001b[1;33m(\u001b[0m\u001b[0mcolumn\u001b[0m \u001b[0mvector\u001b[0m\u001b[1;33m)\u001b[0m\u001b[1;33m.\u001b[0m\u001b[1;33m\u001b[0m\u001b[0m\n\u001b[0;32m    346\u001b[0m         \"\"\"\n\u001b[1;32m--> 347\u001b[1;33m         \u001b[1;32mreturn\u001b[0m \u001b[0mself\u001b[0m\u001b[1;33m.\u001b[0m\u001b[0m_get_submatrix\u001b[0m\u001b[1;33m(\u001b[0m\u001b[0mslice\u001b[0m\u001b[1;33m(\u001b[0m\u001b[1;32mNone\u001b[0m\u001b[1;33m)\u001b[0m\u001b[1;33m,\u001b[0m \u001b[0mi\u001b[0m\u001b[1;33m)\u001b[0m\u001b[1;33m\u001b[0m\u001b[0m\n\u001b[0m\u001b[0;32m    348\u001b[0m \u001b[1;33m\u001b[0m\u001b[0m\n\u001b[0;32m    349\u001b[0m     \u001b[1;32mdef\u001b[0m \u001b[0m_get_row_slice\u001b[0m\u001b[1;33m(\u001b[0m\u001b[0mself\u001b[0m\u001b[1;33m,\u001b[0m \u001b[0mi\u001b[0m\u001b[1;33m,\u001b[0m \u001b[0mcslice\u001b[0m\u001b[1;33m)\u001b[0m\u001b[1;33m:\u001b[0m\u001b[1;33m\u001b[0m\u001b[0m\n",
      "\u001b[1;32m/home/kopita/anaconda3/lib/python3.5/site-packages/scipy/sparse/csr.py\u001b[0m in \u001b[0;36m_get_submatrix\u001b[1;34m(self, row_slice, col_slice)\u001b[0m\n\u001b[0;32m    431\u001b[0m         indptr, indices, data = get_csr_submatrix(M, N,\n\u001b[0;32m    432\u001b[0m                 \u001b[0mself\u001b[0m\u001b[1;33m.\u001b[0m\u001b[0mindptr\u001b[0m\u001b[1;33m,\u001b[0m \u001b[0mself\u001b[0m\u001b[1;33m.\u001b[0m\u001b[0mindices\u001b[0m\u001b[1;33m,\u001b[0m \u001b[0mself\u001b[0m\u001b[1;33m.\u001b[0m\u001b[0mdata\u001b[0m\u001b[1;33m,\u001b[0m\u001b[1;33m\u001b[0m\u001b[0m\n\u001b[1;32m--> 433\u001b[1;33m                 int(i0), int(i1), int(j0), int(j1))\n\u001b[0m\u001b[0;32m    434\u001b[0m \u001b[1;33m\u001b[0m\u001b[0m\n\u001b[0;32m    435\u001b[0m         \u001b[0mshape\u001b[0m \u001b[1;33m=\u001b[0m \u001b[1;33m(\u001b[0m\u001b[0mi1\u001b[0m \u001b[1;33m-\u001b[0m \u001b[0mi0\u001b[0m\u001b[1;33m,\u001b[0m \u001b[0mj1\u001b[0m \u001b[1;33m-\u001b[0m \u001b[0mj0\u001b[0m\u001b[1;33m)\u001b[0m\u001b[1;33m\u001b[0m\u001b[0m\n",
      "\u001b[1;31mKeyboardInterrupt\u001b[0m: "
     ]
    }
   ],
   "source": [
    "col_count = []\n",
    "for n_col in range(pivot_table.shape[1]):\n",
    "    indices = len(pivot_table.getcol(n_col).indices)\n",
    "    col_count.append(indices)\n"
   ]
  },
  {
   "cell_type": "code",
   "execution_count": null,
   "metadata": {
    "collapsed": true
   },
   "outputs": [],
   "source": [
    "col_count"
   ]
  },
  {
   "cell_type": "code",
   "execution_count": null,
   "metadata": {
    "collapsed": true
   },
   "outputs": [],
   "source": []
  },
  {
   "cell_type": "code",
   "execution_count": null,
   "metadata": {
    "collapsed": true
   },
   "outputs": [],
   "source": [
    "top_indices_i = np.argsort(top_indices)[-10:][::-1]"
   ]
  },
  {
   "cell_type": "code",
   "execution_count": null,
   "metadata": {
    "collapsed": true
   },
   "outputs": [],
   "source": []
  },
  {
   "cell_type": "code",
   "execution_count": 206,
   "metadata": {
    "collapsed": false
   },
   "outputs": [
    {
     "data": {
      "text/plain": [
       "68"
      ]
     },
     "execution_count": 206,
     "metadata": {},
     "output_type": "execute_result"
    }
   ],
   "source": [
    "len(pivot_table.getcol(0).indices)"
   ]
  },
  {
   "cell_type": "code",
   "execution_count": 207,
   "metadata": {
    "collapsed": false
   },
   "outputs": [
    {
     "data": {
      "text/plain": [
       "68"
      ]
     },
     "execution_count": 207,
     "metadata": {},
     "output_type": "execute_result"
    }
   ],
   "source": [
    "np.count_nonzero(pivot_table.getcol(0).toarray())"
   ]
  },
  {
   "cell_type": "code",
   "execution_count": 197,
   "metadata": {
    "collapsed": false
   },
   "outputs": [],
   "source": [
    "tt = pivot_table.getcol(1)"
   ]
  },
  {
   "cell_type": "code",
   "execution_count": 198,
   "metadata": {
    "collapsed": false
   },
   "outputs": [
    {
     "data": {
      "text/plain": [
       "25"
      ]
     },
     "execution_count": 198,
     "metadata": {},
     "output_type": "execute_result"
    }
   ],
   "source": [
    "np.count_nonzero(tt.toarray())"
   ]
  },
  {
   "cell_type": "code",
   "execution_count": null,
   "metadata": {
    "collapsed": true
   },
   "outputs": [],
   "source": []
  },
  {
   "cell_type": "code",
   "execution_count": 201,
   "metadata": {
    "collapsed": false
   },
   "outputs": [
    {
     "data": {
      "text/plain": [
       "<299752x101636 sparse matrix of type '<class 'numpy.int64'>'\n",
       "\twith 69679427 stored elements in Compressed Sparse Row format>"
      ]
     },
     "execution_count": 201,
     "metadata": {},
     "output_type": "execute_result"
    }
   ],
   "source": [
    "pivot_table"
   ]
  },
  {
   "cell_type": "code",
   "execution_count": 97,
   "metadata": {
    "collapsed": false
   },
   "outputs": [
    {
     "data": {
      "text/plain": [
       "<1x101636 sparse matrix of type '<class 'numpy.int64'>'\n",
       "\twith 169 stored elements in Compressed Sparse Row format>"
      ]
     },
     "execution_count": 97,
     "metadata": {},
     "output_type": "execute_result"
    }
   ],
   "source": [
    "qq = pivot_table.getrow(3)\n",
    "qq"
   ]
  },
  {
   "cell_type": "code",
   "execution_count": 105,
   "metadata": {
    "collapsed": false
   },
   "outputs": [],
   "source": [
    "test = []\n",
    "for n_row in range(pivot_table.shape[0]):\n",
    "    indices = pivot_table.getrow(n_row).indices\n",
    "    test.append(len(indices))"
   ]
  },
  {
   "cell_type": "code",
   "execution_count": 139,
   "metadata": {
    "collapsed": false
   },
   "outputs": [
    {
     "data": {
      "text/plain": [
       "array([  412,   533,  2338, ..., 69437, 80303, 81691])"
      ]
     },
     "execution_count": 139,
     "metadata": {},
     "output_type": "execute_result"
    }
   ],
   "source": [
    "col_pos"
   ]
  },
  {
   "cell_type": "code",
   "execution_count": 177,
   "metadata": {
    "collapsed": false
   },
   "outputs": [
    {
     "data": {
      "text/plain": [
       "536"
      ]
     },
     "execution_count": 177,
     "metadata": {},
     "output_type": "execute_result"
    }
   ],
   "source": [
    "np.sum(pivot_table[128, :].toarray())"
   ]
  },
  {
   "cell_type": "code",
   "execution_count": 172,
   "metadata": {
    "collapsed": false
   },
   "outputs": [
    {
     "data": {
      "text/plain": [
       "array([122633, 299001, 299044, 298574, 298579, 122401, 231542, 231518,\n",
       "       177316, 185007])"
      ]
     },
     "execution_count": 172,
     "metadata": {},
     "output_type": "execute_result"
    }
   ],
   "source": [
    "np.argsort(test)[-10:][::-1]"
   ]
  },
  {
   "cell_type": "code",
   "execution_count": 155,
   "metadata": {
    "collapsed": false
   },
   "outputs": [
    {
     "data": {
      "text/plain": [
       "299752"
      ]
     },
     "execution_count": 155,
     "metadata": {},
     "output_type": "execute_result"
    }
   ],
   "source": [
    "len(test)"
   ]
  },
  {
   "cell_type": "code",
   "execution_count": 103,
   "metadata": {
    "collapsed": false
   },
   "outputs": [
    {
     "data": {
      "text/plain": [
       "169"
      ]
     },
     "execution_count": 103,
     "metadata": {},
     "output_type": "execute_result"
    }
   ],
   "source": [
    "len(qq.indices)"
   ]
  },
  {
   "cell_type": "code",
   "execution_count": 88,
   "metadata": {
    "collapsed": false
   },
   "outputs": [
    {
     "data": {
      "text/plain": [
       "124"
      ]
     },
     "execution_count": 88,
     "metadata": {},
     "output_type": "execute_result"
    }
   ],
   "source": [
    "np.argmax(qq.data)"
   ]
  },
  {
   "cell_type": "code",
   "execution_count": 5,
   "metadata": {
    "collapsed": false
   },
   "outputs": [
    {
     "name": "stdout",
     "output_type": "stream",
     "text": [
      "Extracting features from the training dataset using a sparse vectorizer\n",
      "done in 3.42s\n",
      "n_samples: 299752, n_features: 101636\n",
      "\n"
     ]
    }
   ],
   "source": [
    "true_k = 20\n",
    "print(\"Extracting features from the training dataset using a sparse vectorizer\")\n",
    "t0 = time()\n",
    "vectorizer = TfidfTransformer()\n",
    "X = vectorizer.fit_transform(pivot_table)\n",
    "print(\"done in %.2fs\" % (time() - t0))\n",
    "print(\"n_samples: %d, n_features: %d\" % X.shape)\n",
    "print()"
   ]
  },
  {
   "cell_type": "code",
   "execution_count": 200,
   "metadata": {
    "collapsed": false
   },
   "outputs": [
    {
     "data": {
      "text/plain": [
       "{'norm': 'l2', 'smooth_idf': True, 'sublinear_tf': False, 'use_idf': True}"
      ]
     },
     "execution_count": 200,
     "metadata": {},
     "output_type": "execute_result"
    }
   ],
   "source": [
    "vectorizer."
   ]
  },
  {
   "cell_type": "code",
   "execution_count": 9,
   "metadata": {
    "collapsed": false
   },
   "outputs": [],
   "source": [
    "svd = TruncatedSVD(100)\n",
    "nX = svd.fit_transform(X)"
   ]
  },
  {
   "cell_type": "code",
   "execution_count": 13,
   "metadata": {
    "collapsed": false
   },
   "outputs": [
    {
     "data": {
      "text/plain": [
       "0.11475546253294396"
      ]
     },
     "execution_count": 13,
     "metadata": {},
     "output_type": "execute_result"
    }
   ],
   "source": [
    "svd.explained_variance_ratio_.sum()"
   ]
  },
  {
   "cell_type": "code",
   "execution_count": 24,
   "metadata": {
    "collapsed": false
   },
   "outputs": [
    {
     "data": {
      "text/plain": [
       "(102660, 1)"
      ]
     },
     "execution_count": 24,
     "metadata": {},
     "output_type": "execute_result"
    }
   ],
   "source": [
    "words.shape"
   ]
  },
  {
   "cell_type": "code",
   "execution_count": null,
   "metadata": {
    "collapsed": false
   },
   "outputs": [],
   "source": [
    "svd = TruncatedSVD(1000)\n",
    "normalizer = Normalizer(copy=False)\n",
    "lsa = make_pipeline(svd, normalizer)\n",
    "\n",
    "nX = lsa.fit_transform(X)"
   ]
  },
  {
   "cell_type": "code",
   "execution_count": 30,
   "metadata": {
    "collapsed": false
   },
   "outputs": [
    {
     "data": {
      "text/plain": [
       "<299752x101636 sparse matrix of type '<class 'numpy.float64'>'\n",
       "\twith 69679427 stored elements in Compressed Sparse Row format>"
      ]
     },
     "execution_count": 30,
     "metadata": {},
     "output_type": "execute_result"
    }
   ],
   "source": [
    "X"
   ]
  },
  {
   "cell_type": "code",
   "execution_count": 28,
   "metadata": {
    "collapsed": false
   },
   "outputs": [
    {
     "data": {
      "text/plain": [
       "array(['aah'], dtype=object)"
      ]
     },
     "execution_count": 28,
     "metadata": {},
     "output_type": "execute_result"
    }
   ],
   "source": [
    "words.values[0]"
   ]
  },
  {
   "cell_type": "code",
   "execution_count": null,
   "metadata": {
    "collapsed": true
   },
   "outputs": [],
   "source": []
  },
  {
   "cell_type": "code",
   "execution_count": 47,
   "metadata": {
    "collapsed": false
   },
   "outputs": [],
   "source": [
    "vectorizer = TfidfTransformer()"
   ]
  },
  {
   "cell_type": "code",
   "execution_count": null,
   "metadata": {
    "collapsed": true
   },
   "outputs": [],
   "source": []
  },
  {
   "cell_type": "code",
   "execution_count": 37,
   "metadata": {
    "collapsed": false
   },
   "outputs": [
    {
     "ename": "MemoryError",
     "evalue": "",
     "output_type": "error",
     "traceback": [
      "\u001b[1;31m---------------------------------------------------------------------------\u001b[0m",
      "\u001b[1;31mMemoryError\u001b[0m                               Traceback (most recent call last)",
      "\u001b[1;32m<ipython-input-37-2971b607e586>\u001b[0m in \u001b[0;36m<module>\u001b[1;34m()\u001b[0m\n\u001b[1;32m----> 1\u001b[1;33m \u001b[0mpivot_table\u001b[0m \u001b[1;33m=\u001b[0m \u001b[0mnp\u001b[0m\u001b[1;33m.\u001b[0m\u001b[0mzeros\u001b[0m\u001b[1;33m(\u001b[0m\u001b[1;33m(\u001b[0m\u001b[0mlen\u001b[0m\u001b[1;33m(\u001b[0m\u001b[0mrows\u001b[0m\u001b[1;33m)\u001b[0m\u001b[1;33m,\u001b[0m \u001b[0mlen\u001b[0m\u001b[1;33m(\u001b[0m\u001b[0mcols\u001b[0m\u001b[1;33m)\u001b[0m\u001b[1;33m)\u001b[0m\u001b[1;33m)\u001b[0m\u001b[1;33m\u001b[0m\u001b[0m\n\u001b[0m",
      "\u001b[1;31mMemoryError\u001b[0m: "
     ]
    }
   ],
   "source": [
    "pivot_table = np.zeros((len(rows), len(cols)))"
   ]
  },
  {
   "cell_type": "code",
   "execution_count": null,
   "metadata": {
    "collapsed": true
   },
   "outputs": [],
   "source": []
  },
  {
   "cell_type": "code",
   "execution_count": null,
   "metadata": {
    "collapsed": true
   },
   "outputs": [],
   "source": [
    "data = np.array([[ 4057,     8,  1374],\n",
    "                 [ 4057,     9,   759],\n",
    "                 [ 4057,    11,    96],\n",
    "                 [89205,    16,   146],\n",
    "                 [89205,    17,   154],\n",
    "                 [89205,    18,   244],\n",
    "                 [ 4057,    11,     4]])\n",
    "\n",
    "rows, row_pos = np.unique(data[:, 0], return_inverse=True)\n",
    "cols, col_pos = np.unique(data[:, 1], return_inverse=True)\n",
    "\n",
    "pivot_table = np.zeros((len(rows), len(cols)), dtype=data.dtype)\n",
    "pivot_table[row_pos, col_pos] = data[:, 2]\n",
    ">>> pivot_table # the element at [0, 2] should be 100!!!\n",
    "array([[1374,  759,    4,    0,    0,    0],\n",
    "       [   0,    0,    0,  146,  154,  244]])\n",
    "\n",
    "import scipy.sparse as sps\n",
    "pivot_table = sps.coo_matrix((data[:, 2], (row_pos, col_pos)),\n",
    "                             shape=(len(rows), len(cols))).A\n",
    ">>> pivot_table # now repeated elements are added together\n",
    "array([[1374,  759,  100,    0,    0,    0],\n",
    "       [   0,    0,    0,  146,  154,  244]])"
   ]
  },
  {
   "cell_type": "code",
   "execution_count": null,
   "metadata": {
    "collapsed": true
   },
   "outputs": [],
   "source": []
  },
  {
   "cell_type": "code",
   "execution_count": null,
   "metadata": {
    "collapsed": true
   },
   "outputs": [],
   "source": []
  },
  {
   "cell_type": "code",
   "execution_count": 13,
   "metadata": {
    "collapsed": false
   },
   "outputs": [
    {
     "data": {
      "text/html": [
       "<div>\n",
       "<table border=\"1\" class=\"dataframe\">\n",
       "  <thead>\n",
       "    <tr style=\"text-align: right;\">\n",
       "      <th></th>\n",
       "      <th>docID</th>\n",
       "      <th>wordID</th>\n",
       "      <th>count</th>\n",
       "    </tr>\n",
       "  </thead>\n",
       "  <tbody>\n",
       "    <tr>\n",
       "      <th>0</th>\n",
       "      <td>1</td>\n",
       "      <td>413</td>\n",
       "      <td>1</td>\n",
       "    </tr>\n",
       "    <tr>\n",
       "      <th>1</th>\n",
       "      <td>1</td>\n",
       "      <td>534</td>\n",
       "      <td>1</td>\n",
       "    </tr>\n",
       "    <tr>\n",
       "      <th>2</th>\n",
       "      <td>1</td>\n",
       "      <td>2340</td>\n",
       "      <td>1</td>\n",
       "    </tr>\n",
       "    <tr>\n",
       "      <th>3</th>\n",
       "      <td>1</td>\n",
       "      <td>2806</td>\n",
       "      <td>1</td>\n",
       "    </tr>\n",
       "    <tr>\n",
       "      <th>4</th>\n",
       "      <td>1</td>\n",
       "      <td>3059</td>\n",
       "      <td>1</td>\n",
       "    </tr>\n",
       "  </tbody>\n",
       "</table>\n",
       "</div>"
      ],
      "text/plain": [
       "   docID  wordID  count\n",
       "0      1     413      1\n",
       "1      1     534      1\n",
       "2      1    2340      1\n",
       "3      1    2806      1\n",
       "4      1    3059      1"
      ]
     },
     "execution_count": 13,
     "metadata": {},
     "output_type": "execute_result"
    }
   ],
   "source": [
    "df.head()"
   ]
  },
  {
   "cell_type": "code",
   "execution_count": null,
   "metadata": {
    "collapsed": true
   },
   "outputs": [],
   "source": []
  },
  {
   "cell_type": "code",
   "execution_count": null,
   "metadata": {
    "collapsed": false
   },
   "outputs": [],
   "source": [
    "df.pivot(index='docID', columns='wordID', values='count')"
   ]
  },
  {
   "cell_type": "code",
   "execution_count": null,
   "metadata": {
    "collapsed": false
   },
   "outputs": [],
   "source": [
    "df.head()"
   ]
  },
  {
   "cell_type": "code",
   "execution_count": null,
   "metadata": {
    "collapsed": false
   },
   "outputs": [],
   "source": [
    "data = np.loadtxt('/home/kopita/data_sets/nytimes/docword.nytimes.txt', dtype=int, delimiter=' ', skiprows=3)"
   ]
  },
  {
   "cell_type": "code",
   "execution_count": null,
   "metadata": {
    "collapsed": false
   },
   "outputs": [],
   "source": [
    "df.head()"
   ]
  },
  {
   "cell_type": "code",
   "execution_count": null,
   "metadata": {
    "collapsed": false
   },
   "outputs": [],
   "source": [
    "(range(2))"
   ]
  },
  {
   "cell_type": "code",
   "execution_count": null,
   "metadata": {
    "collapsed": false
   },
   "outputs": [],
   "source": [
    "df_p = df.pivot(index='date', columns='variable', values='value')"
   ]
  },
  {
   "cell_type": "code",
   "execution_count": null,
   "metadata": {
    "collapsed": true
   },
   "outputs": [],
   "source": []
  },
  {
   "cell_type": "code",
   "execution_count": null,
   "metadata": {
    "collapsed": false
   },
   "outputs": [],
   "source": [
    "tfid_t = TfidfTransformer()\n",
    "tfid = tfid_t.fit_transform(df)"
   ]
  },
  {
   "cell_type": "code",
   "execution_count": null,
   "metadata": {
    "collapsed": true
   },
   "outputs": [],
   "source": [
    "n_components = 1000\n",
    "svd = TruncatedSVD(n_components)\n",
    "normalizer = Normalizer(copy=False)\n",
    "lsa = make_pipeline(svd, normalizer)\n",
    "\n",
    "X = lsa.fit_transform(X)"
   ]
  },
  {
   "cell_type": "code",
   "execution_count": null,
   "metadata": {
    "collapsed": false
   },
   "outputs": [],
   "source": [
    "tfid"
   ]
  },
  {
   "cell_type": "code",
   "execution_count": null,
   "metadata": {
    "collapsed": false
   },
   "outputs": [],
   "source": [
    "df.head()"
   ]
  },
  {
   "cell_type": "code",
   "execution_count": null,
   "metadata": {
    "collapsed": true
   },
   "outputs": [],
   "source": [
    "tf"
   ]
  },
  {
   "cell_type": "code",
   "execution_count": null,
   "metadata": {
    "collapsed": true
   },
   "outputs": [],
   "source": []
  },
  {
   "cell_type": "code",
   "execution_count": null,
   "metadata": {
    "collapsed": true
   },
   "outputs": [],
   "source": [
    "data = numpy.loadtxt(open(filename,'rb'),delimiter=csv_delimiter,skiprows=0)\n",
    "    return data"
   ]
  },
  {
   "cell_type": "code",
   "execution_count": null,
   "metadata": {
    "collapsed": true
   },
   "outputs": [],
   "source": []
  },
  {
   "cell_type": "code",
   "execution_count": null,
   "metadata": {
    "collapsed": true
   },
   "outputs": [],
   "source": []
  }
 ],
 "metadata": {
  "kernelspec": {
   "display_name": "Python 3",
   "language": "python",
   "name": "python3"
  },
  "language_info": {
   "codemirror_mode": {
    "name": "ipython",
    "version": 3
   },
   "file_extension": ".py",
   "mimetype": "text/x-python",
   "name": "python",
   "nbconvert_exporter": "python",
   "pygments_lexer": "ipython3",
   "version": "3.5.1"
  }
 },
 "nbformat": 4,
 "nbformat_minor": 0
}
